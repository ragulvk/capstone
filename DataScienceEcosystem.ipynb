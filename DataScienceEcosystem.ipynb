{
 "cells": [
  {
   "cell_type": "markdown",
   "id": "9e1060dd-06bb-4a40-9e24-bac55154095b",
   "metadata": {},
   "source": [
    "# Data Science Tools and Ecosystem"
   ]
  },
  {
   "cell_type": "markdown",
   "id": "43ef120a-1017-4f10-96ef-70a66a74e198",
   "metadata": {},
   "source": [
    "## In this notebook, Data Science Tools and Ecosystem are summarized."
   ]
  },
  {
   "cell_type": "markdown",
   "id": "a84c47a0-3fb6-469f-b6cf-13dac33731d9",
   "metadata": {},
   "source": [
    "## Some of the popular languages that Data Scientists use are:\n",
    "1. python\n",
    "2. R\n",
    "3. Scala"
   ]
  },
  {
   "cell_type": "markdown",
   "id": "ad47bee4-36f2-4352-b707-aaba4689e45a",
   "metadata": {},
   "source": [
    "## Some of the commonly used libraries used by Data Scientists include:\n",
    "1. Numpy\n",
    "2. Pandas\n",
    "3. Scipy\n",
    "4. Matplotlib\n",
    "5. Sklearn\n"
   ]
  },
  {
   "cell_type": "markdown",
   "id": "3f78c8c8-7a10-4d85-88f8-76892e8c1d74",
   "metadata": {},
   "source": [
    "|Data Science Tools|\n",
    "|:----------------:|\n",
    "|Jupyter Notebook  |\n",
    "|Apache Spark      |\n",
    "|Excel             |\n",
    "|Tensorflow        |\n",
    "|Tableau           |"
   ]
  },
  {
   "cell_type": "markdown",
   "id": "a0c80360-e8f3-4677-838d-569cb63af58c",
   "metadata": {},
   "source": [
    "### Below are a few examples of evaluating arithmetic expressions in Python"
   ]
  },
  {
   "cell_type": "code",
   "execution_count": 1,
   "id": "5035b14e-eab7-443a-b049-a82c910e2e40",
   "metadata": {},
   "outputs": [
    {
     "data": {
      "text/plain": [
       "17"
      ]
     },
     "execution_count": 1,
     "metadata": {},
     "output_type": "execute_result"
    }
   ],
   "source": [
    "#This a simple arithmetic expression to mutiply then add integers\n",
    "(3*4)+5"
   ]
  },
  {
   "cell_type": "code",
   "execution_count": 2,
   "id": "f4034927-b775-402b-af9d-10dba2862dd4",
   "metadata": {},
   "outputs": [
    {
     "data": {
      "text/plain": [
       "3.3333333333333335"
      ]
     },
     "execution_count": 2,
     "metadata": {},
     "output_type": "execute_result"
    }
   ],
   "source": [
    "#This will convert 200 minutes to hours by diving by 60\n",
    "200/60"
   ]
  },
  {
   "cell_type": "markdown",
   "id": "4ce0a71e-103a-4a58-ac2a-c1bfecad4ad6",
   "metadata": {},
   "source": [
    "### Objectives:\n",
    "- Data science tools\n",
    "- Popular languages for data Science\n",
    "- Commonly used libraries for data science\n",
    "- Examples of evaluation arithmetic expressions\n",
    "- Inserting ordered and unordered list of data\n",
    "- Inserting table in markdown cell"
   ]
  },
  {
   "cell_type": "markdown",
   "id": "44a2925c-4fb8-4387-98b1-d3f53dbd1092",
   "metadata": {},
   "source": [
    "## Author\n",
    "Easwar"
   ]
  },
  {
   "cell_type": "code",
   "execution_count": null,
   "id": "aeafb27e-2b4c-44c4-b25c-db7ed349f44e",
   "metadata": {},
   "outputs": [],
   "source": []
  }
 ],
 "metadata": {
  "kernelspec": {
   "display_name": "Python 3 (ipykernel)",
   "language": "python",
   "name": "python3"
  },
  "language_info": {
   "codemirror_mode": {
    "name": "ipython",
    "version": 3
   },
   "file_extension": ".py",
   "mimetype": "text/x-python",
   "name": "python",
   "nbconvert_exporter": "python",
   "pygments_lexer": "ipython3",
   "version": "3.12.3"
  }
 },
 "nbformat": 4,
 "nbformat_minor": 5
}
